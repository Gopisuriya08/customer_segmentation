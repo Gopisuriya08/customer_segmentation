{
 "cells": [
  {
   "cell_type": "markdown",
   "metadata": {},
   "source": [
    "Libraries import"
   ]
  },
  {
   "cell_type": "code",
   "execution_count": 27,
   "metadata": {},
   "outputs": [],
   "source": [
    "import pandas as pd\n",
    "import numpy as np\n",
    "import matplotlib.pyplot as plt\n"
   ]
  },
  {
   "cell_type": "code",
   "execution_count": 28,
   "metadata": {},
   "outputs": [
    {
     "data": {
      "text/html": [
       "<div>\n",
       "<style scoped>\n",
       "    .dataframe tbody tr th:only-of-type {\n",
       "        vertical-align: middle;\n",
       "    }\n",
       "\n",
       "    .dataframe tbody tr th {\n",
       "        vertical-align: top;\n",
       "    }\n",
       "\n",
       "    .dataframe thead th {\n",
       "        text-align: right;\n",
       "    }\n",
       "</style>\n",
       "<table border=\"1\" class=\"dataframe\">\n",
       "  <thead>\n",
       "    <tr style=\"text-align: right;\">\n",
       "      <th></th>\n",
       "      <th>CUST_ID</th>\n",
       "      <th>BALANCE</th>\n",
       "      <th>BALANCE_FREQUENCY</th>\n",
       "      <th>PURCHASES</th>\n",
       "      <th>ONEOFF_PURCHASES</th>\n",
       "      <th>INSTALLMENTS_PURCHASES</th>\n",
       "      <th>CASH_ADVANCE</th>\n",
       "      <th>PURCHASES_FREQUENCY</th>\n",
       "      <th>ONEOFF_PURCHASES_FREQUENCY</th>\n",
       "      <th>PURCHASES_INSTALLMENTS_FREQUENCY</th>\n",
       "      <th>CASH_ADVANCE_FREQUENCY</th>\n",
       "      <th>CASH_ADVANCE_TRX</th>\n",
       "      <th>PURCHASES_TRX</th>\n",
       "      <th>CREDIT_LIMIT</th>\n",
       "      <th>PAYMENTS</th>\n",
       "      <th>MINIMUM_PAYMENTS</th>\n",
       "      <th>PRC_FULL_PAYMENT</th>\n",
       "      <th>TENURE</th>\n",
       "    </tr>\n",
       "  </thead>\n",
       "  <tbody>\n",
       "    <tr>\n",
       "      <th>0</th>\n",
       "      <td>C10001</td>\n",
       "      <td>40.900749</td>\n",
       "      <td>0.818182</td>\n",
       "      <td>95.40</td>\n",
       "      <td>0.00</td>\n",
       "      <td>95.40</td>\n",
       "      <td>0.000000</td>\n",
       "      <td>0.166667</td>\n",
       "      <td>0.000000</td>\n",
       "      <td>0.083333</td>\n",
       "      <td>0.000000</td>\n",
       "      <td>0</td>\n",
       "      <td>2</td>\n",
       "      <td>1000.0</td>\n",
       "      <td>201.802084</td>\n",
       "      <td>139.509787</td>\n",
       "      <td>0.000000</td>\n",
       "      <td>12</td>\n",
       "    </tr>\n",
       "    <tr>\n",
       "      <th>1</th>\n",
       "      <td>C10002</td>\n",
       "      <td>3202.467416</td>\n",
       "      <td>0.909091</td>\n",
       "      <td>0.00</td>\n",
       "      <td>0.00</td>\n",
       "      <td>0.00</td>\n",
       "      <td>6442.945483</td>\n",
       "      <td>0.000000</td>\n",
       "      <td>0.000000</td>\n",
       "      <td>0.000000</td>\n",
       "      <td>0.250000</td>\n",
       "      <td>4</td>\n",
       "      <td>0</td>\n",
       "      <td>7000.0</td>\n",
       "      <td>4103.032597</td>\n",
       "      <td>1072.340217</td>\n",
       "      <td>0.222222</td>\n",
       "      <td>12</td>\n",
       "    </tr>\n",
       "    <tr>\n",
       "      <th>2</th>\n",
       "      <td>C10003</td>\n",
       "      <td>2495.148862</td>\n",
       "      <td>1.000000</td>\n",
       "      <td>773.17</td>\n",
       "      <td>773.17</td>\n",
       "      <td>0.00</td>\n",
       "      <td>0.000000</td>\n",
       "      <td>1.000000</td>\n",
       "      <td>1.000000</td>\n",
       "      <td>0.000000</td>\n",
       "      <td>0.000000</td>\n",
       "      <td>0</td>\n",
       "      <td>12</td>\n",
       "      <td>7500.0</td>\n",
       "      <td>622.066742</td>\n",
       "      <td>627.284787</td>\n",
       "      <td>0.000000</td>\n",
       "      <td>12</td>\n",
       "    </tr>\n",
       "    <tr>\n",
       "      <th>3</th>\n",
       "      <td>C10004</td>\n",
       "      <td>1666.670542</td>\n",
       "      <td>0.636364</td>\n",
       "      <td>1499.00</td>\n",
       "      <td>1499.00</td>\n",
       "      <td>0.00</td>\n",
       "      <td>205.788017</td>\n",
       "      <td>0.083333</td>\n",
       "      <td>0.083333</td>\n",
       "      <td>0.000000</td>\n",
       "      <td>0.083333</td>\n",
       "      <td>1</td>\n",
       "      <td>1</td>\n",
       "      <td>7500.0</td>\n",
       "      <td>0.000000</td>\n",
       "      <td>NaN</td>\n",
       "      <td>0.000000</td>\n",
       "      <td>12</td>\n",
       "    </tr>\n",
       "    <tr>\n",
       "      <th>4</th>\n",
       "      <td>C10005</td>\n",
       "      <td>817.714335</td>\n",
       "      <td>1.000000</td>\n",
       "      <td>16.00</td>\n",
       "      <td>16.00</td>\n",
       "      <td>0.00</td>\n",
       "      <td>0.000000</td>\n",
       "      <td>0.083333</td>\n",
       "      <td>0.083333</td>\n",
       "      <td>0.000000</td>\n",
       "      <td>0.000000</td>\n",
       "      <td>0</td>\n",
       "      <td>1</td>\n",
       "      <td>1200.0</td>\n",
       "      <td>678.334763</td>\n",
       "      <td>244.791237</td>\n",
       "      <td>0.000000</td>\n",
       "      <td>12</td>\n",
       "    </tr>\n",
       "    <tr>\n",
       "      <th>...</th>\n",
       "      <td>...</td>\n",
       "      <td>...</td>\n",
       "      <td>...</td>\n",
       "      <td>...</td>\n",
       "      <td>...</td>\n",
       "      <td>...</td>\n",
       "      <td>...</td>\n",
       "      <td>...</td>\n",
       "      <td>...</td>\n",
       "      <td>...</td>\n",
       "      <td>...</td>\n",
       "      <td>...</td>\n",
       "      <td>...</td>\n",
       "      <td>...</td>\n",
       "      <td>...</td>\n",
       "      <td>...</td>\n",
       "      <td>...</td>\n",
       "      <td>...</td>\n",
       "    </tr>\n",
       "    <tr>\n",
       "      <th>8945</th>\n",
       "      <td>C19186</td>\n",
       "      <td>28.493517</td>\n",
       "      <td>1.000000</td>\n",
       "      <td>291.12</td>\n",
       "      <td>0.00</td>\n",
       "      <td>291.12</td>\n",
       "      <td>0.000000</td>\n",
       "      <td>1.000000</td>\n",
       "      <td>0.000000</td>\n",
       "      <td>0.833333</td>\n",
       "      <td>0.000000</td>\n",
       "      <td>0</td>\n",
       "      <td>6</td>\n",
       "      <td>1000.0</td>\n",
       "      <td>325.594462</td>\n",
       "      <td>48.886365</td>\n",
       "      <td>0.500000</td>\n",
       "      <td>6</td>\n",
       "    </tr>\n",
       "    <tr>\n",
       "      <th>8946</th>\n",
       "      <td>C19187</td>\n",
       "      <td>19.183215</td>\n",
       "      <td>1.000000</td>\n",
       "      <td>300.00</td>\n",
       "      <td>0.00</td>\n",
       "      <td>300.00</td>\n",
       "      <td>0.000000</td>\n",
       "      <td>1.000000</td>\n",
       "      <td>0.000000</td>\n",
       "      <td>0.833333</td>\n",
       "      <td>0.000000</td>\n",
       "      <td>0</td>\n",
       "      <td>6</td>\n",
       "      <td>1000.0</td>\n",
       "      <td>275.861322</td>\n",
       "      <td>NaN</td>\n",
       "      <td>0.000000</td>\n",
       "      <td>6</td>\n",
       "    </tr>\n",
       "    <tr>\n",
       "      <th>8947</th>\n",
       "      <td>C19188</td>\n",
       "      <td>23.398673</td>\n",
       "      <td>0.833333</td>\n",
       "      <td>144.40</td>\n",
       "      <td>0.00</td>\n",
       "      <td>144.40</td>\n",
       "      <td>0.000000</td>\n",
       "      <td>0.833333</td>\n",
       "      <td>0.000000</td>\n",
       "      <td>0.666667</td>\n",
       "      <td>0.000000</td>\n",
       "      <td>0</td>\n",
       "      <td>5</td>\n",
       "      <td>1000.0</td>\n",
       "      <td>81.270775</td>\n",
       "      <td>82.418369</td>\n",
       "      <td>0.250000</td>\n",
       "      <td>6</td>\n",
       "    </tr>\n",
       "    <tr>\n",
       "      <th>8948</th>\n",
       "      <td>C19189</td>\n",
       "      <td>13.457564</td>\n",
       "      <td>0.833333</td>\n",
       "      <td>0.00</td>\n",
       "      <td>0.00</td>\n",
       "      <td>0.00</td>\n",
       "      <td>36.558778</td>\n",
       "      <td>0.000000</td>\n",
       "      <td>0.000000</td>\n",
       "      <td>0.000000</td>\n",
       "      <td>0.166667</td>\n",
       "      <td>2</td>\n",
       "      <td>0</td>\n",
       "      <td>500.0</td>\n",
       "      <td>52.549959</td>\n",
       "      <td>55.755628</td>\n",
       "      <td>0.250000</td>\n",
       "      <td>6</td>\n",
       "    </tr>\n",
       "    <tr>\n",
       "      <th>8949</th>\n",
       "      <td>C19190</td>\n",
       "      <td>372.708075</td>\n",
       "      <td>0.666667</td>\n",
       "      <td>1093.25</td>\n",
       "      <td>1093.25</td>\n",
       "      <td>0.00</td>\n",
       "      <td>127.040008</td>\n",
       "      <td>0.666667</td>\n",
       "      <td>0.666667</td>\n",
       "      <td>0.000000</td>\n",
       "      <td>0.333333</td>\n",
       "      <td>2</td>\n",
       "      <td>23</td>\n",
       "      <td>1200.0</td>\n",
       "      <td>63.165404</td>\n",
       "      <td>88.288956</td>\n",
       "      <td>0.000000</td>\n",
       "      <td>6</td>\n",
       "    </tr>\n",
       "  </tbody>\n",
       "</table>\n",
       "<p>8950 rows × 18 columns</p>\n",
       "</div>"
      ],
      "text/plain": [
       "     CUST_ID      BALANCE  BALANCE_FREQUENCY  PURCHASES  ONEOFF_PURCHASES  \\\n",
       "0     C10001    40.900749           0.818182      95.40              0.00   \n",
       "1     C10002  3202.467416           0.909091       0.00              0.00   \n",
       "2     C10003  2495.148862           1.000000     773.17            773.17   \n",
       "3     C10004  1666.670542           0.636364    1499.00           1499.00   \n",
       "4     C10005   817.714335           1.000000      16.00             16.00   \n",
       "...      ...          ...                ...        ...               ...   \n",
       "8945  C19186    28.493517           1.000000     291.12              0.00   \n",
       "8946  C19187    19.183215           1.000000     300.00              0.00   \n",
       "8947  C19188    23.398673           0.833333     144.40              0.00   \n",
       "8948  C19189    13.457564           0.833333       0.00              0.00   \n",
       "8949  C19190   372.708075           0.666667    1093.25           1093.25   \n",
       "\n",
       "      INSTALLMENTS_PURCHASES  CASH_ADVANCE  PURCHASES_FREQUENCY  \\\n",
       "0                      95.40      0.000000             0.166667   \n",
       "1                       0.00   6442.945483             0.000000   \n",
       "2                       0.00      0.000000             1.000000   \n",
       "3                       0.00    205.788017             0.083333   \n",
       "4                       0.00      0.000000             0.083333   \n",
       "...                      ...           ...                  ...   \n",
       "8945                  291.12      0.000000             1.000000   \n",
       "8946                  300.00      0.000000             1.000000   \n",
       "8947                  144.40      0.000000             0.833333   \n",
       "8948                    0.00     36.558778             0.000000   \n",
       "8949                    0.00    127.040008             0.666667   \n",
       "\n",
       "      ONEOFF_PURCHASES_FREQUENCY  PURCHASES_INSTALLMENTS_FREQUENCY  \\\n",
       "0                       0.000000                          0.083333   \n",
       "1                       0.000000                          0.000000   \n",
       "2                       1.000000                          0.000000   \n",
       "3                       0.083333                          0.000000   \n",
       "4                       0.083333                          0.000000   \n",
       "...                          ...                               ...   \n",
       "8945                    0.000000                          0.833333   \n",
       "8946                    0.000000                          0.833333   \n",
       "8947                    0.000000                          0.666667   \n",
       "8948                    0.000000                          0.000000   \n",
       "8949                    0.666667                          0.000000   \n",
       "\n",
       "      CASH_ADVANCE_FREQUENCY  CASH_ADVANCE_TRX  PURCHASES_TRX  CREDIT_LIMIT  \\\n",
       "0                   0.000000                 0              2        1000.0   \n",
       "1                   0.250000                 4              0        7000.0   \n",
       "2                   0.000000                 0             12        7500.0   \n",
       "3                   0.083333                 1              1        7500.0   \n",
       "4                   0.000000                 0              1        1200.0   \n",
       "...                      ...               ...            ...           ...   \n",
       "8945                0.000000                 0              6        1000.0   \n",
       "8946                0.000000                 0              6        1000.0   \n",
       "8947                0.000000                 0              5        1000.0   \n",
       "8948                0.166667                 2              0         500.0   \n",
       "8949                0.333333                 2             23        1200.0   \n",
       "\n",
       "         PAYMENTS  MINIMUM_PAYMENTS  PRC_FULL_PAYMENT  TENURE  \n",
       "0      201.802084        139.509787          0.000000      12  \n",
       "1     4103.032597       1072.340217          0.222222      12  \n",
       "2      622.066742        627.284787          0.000000      12  \n",
       "3        0.000000               NaN          0.000000      12  \n",
       "4      678.334763        244.791237          0.000000      12  \n",
       "...           ...               ...               ...     ...  \n",
       "8945   325.594462         48.886365          0.500000       6  \n",
       "8946   275.861322               NaN          0.000000       6  \n",
       "8947    81.270775         82.418369          0.250000       6  \n",
       "8948    52.549959         55.755628          0.250000       6  \n",
       "8949    63.165404         88.288956          0.000000       6  \n",
       "\n",
       "[8950 rows x 18 columns]"
      ]
     },
     "execution_count": 28,
     "metadata": {},
     "output_type": "execute_result"
    }
   ],
   "source": [
    "data=pd.read_csv('Customer Data.csv')\n",
    "data"
   ]
  },
  {
   "cell_type": "markdown",
   "metadata": {},
   "source": [
    "Data_preprocessing"
   ]
  },
  {
   "cell_type": "code",
   "execution_count": 29,
   "metadata": {},
   "outputs": [],
   "source": [
    "data.drop(labels='CUST_ID',axis=1,inplace=True)"
   ]
  },
  {
   "cell_type": "code",
   "execution_count": 30,
   "metadata": {},
   "outputs": [],
   "source": [
    "X=data\n",
    "X=np.array(X)"
   ]
  },
  {
   "cell_type": "code",
   "execution_count": 32,
   "metadata": {},
   "outputs": [],
   "source": [
    "from sklearn.impute import SimpleImputer\n",
    "imputer=SimpleImputer(missing_values=np.nan,strategy=\"mean\")\n",
    "imputer.fit(X[:, [12,14]])\n",
    "X[:, [12,14]]=imputer.transform(X[:, [12,14]])"
   ]
  },
  {
   "cell_type": "code",
   "execution_count": 33,
   "metadata": {},
   "outputs": [
    {
     "data": {
      "text/plain": [
       "array([[4.09007490e+01, 8.18182000e-01, 9.54000000e+01, ...,\n",
       "        1.39509787e+02, 0.00000000e+00, 1.20000000e+01],\n",
       "       [3.20246742e+03, 9.09091000e-01, 0.00000000e+00, ...,\n",
       "        1.07234022e+03, 2.22222000e-01, 1.20000000e+01],\n",
       "       [2.49514886e+03, 1.00000000e+00, 7.73170000e+02, ...,\n",
       "        6.27284787e+02, 0.00000000e+00, 1.20000000e+01],\n",
       "       ...,\n",
       "       [2.33986730e+01, 8.33333000e-01, 1.44400000e+02, ...,\n",
       "        8.24183690e+01, 2.50000000e-01, 6.00000000e+00],\n",
       "       [1.34575640e+01, 8.33333000e-01, 0.00000000e+00, ...,\n",
       "        5.57556280e+01, 2.50000000e-01, 6.00000000e+00],\n",
       "       [3.72708075e+02, 6.66667000e-01, 1.09325000e+03, ...,\n",
       "        8.82889560e+01, 0.00000000e+00, 6.00000000e+00]])"
      ]
     },
     "execution_count": 33,
     "metadata": {},
     "output_type": "execute_result"
    }
   ],
   "source": [
    "X"
   ]
  },
  {
   "cell_type": "code",
   "execution_count": 67,
   "metadata": {},
   "outputs": [
    {
     "data": {
      "text/plain": [
       "array([[False, False, False, ..., False, False, False],\n",
       "       [False, False, False, ..., False, False, False],\n",
       "       [False, False, False, ..., False, False, False],\n",
       "       ...,\n",
       "       [False, False, False, ..., False, False, False],\n",
       "       [False, False, False, ..., False, False, False],\n",
       "       [False, False, False, ..., False, False, False]])"
      ]
     },
     "execution_count": 67,
     "metadata": {},
     "output_type": "execute_result"
    }
   ],
   "source": [
    "pd.isnull(X)\n"
   ]
  },
  {
   "cell_type": "markdown",
   "metadata": {},
   "source": [
    "Import Kmeans cluster and find optimum number of cluster using elbow methode"
   ]
  },
  {
   "cell_type": "code",
   "execution_count": 42,
   "metadata": {},
   "outputs": [
    {
     "name": "stderr",
     "output_type": "stream",
     "text": [
      "c:\\Users\\ggopi\\AppData\\Local\\Programs\\Python\\Python312\\Lib\\site-packages\\sklearn\\cluster\\_kmeans.py:1435: RuntimeWarning: algorithm='elkan' doesn't make sense for a single cluster. Using 'lloyd' instead.\n",
      "  warnings.warn(\n"
     ]
    },
    {
     "data": {
      "text/plain": [
       "[<matplotlib.lines.Line2D at 0x221db9fb920>]"
      ]
     },
     "execution_count": 42,
     "metadata": {},
     "output_type": "execute_result"
    },
    {
     "data": {
      "image/png": "[encoded data removed]",
      "text/plain": [
       "<Figure size 640x480 with 1 Axes>"
      ]
     },
     "metadata": {},
     "output_type": "display_data"
    }
   ],
   "source": [
    "from sklearn.cluster import KMeans\n",
    "wcss=[]\n",
    "for i in range(1,11):\n",
    "    kmen=KMeans(n_clusters=i,init='k-means++',algorithm='elkan')\n",
    "    kmen.fit(X)\n",
    "    wcss.append(kmen.inertia_)\n",
    "plt.plot(range(1,11),wcss)\n",
    " "
   ]
  },
  {
   "cell_type": "markdown",
   "metadata": {},
   "source": [
    "Fit our Kmeans with 5number of clusters"
   ]
  },
  {
   "cell_type": "code",
   "execution_count": 53,
   "metadata": {},
   "outputs": [
    {
     "data": {
      "text/plain": [
       "array([1, 2, 0, ..., 1, 1, 1])"
      ]
     },
     "execution_count": 53,
     "metadata": {},
     "output_type": "execute_result"
    }
   ],
   "source": [
    "kmen=KMeans(n_clusters=5,init='k-means++',algorithm='elkan')\n",
    "y_pred=kmen.fit_predict(X)\n",
    "y_pred"
   ]
  },
  {
   "cell_type": "markdown",
   "metadata": {},
   "source": [
    "Visualizing the clusters"
   ]
  },
  {
   "cell_type": "code",
   "execution_count": 50,
   "metadata": {},
   "outputs": [
    {
     "data": {
      "image/png": "[encoded data removed]",
      "text/plain": [
       "<Figure size 640x480 with 1 Axes>"
      ]
     },
     "metadata": {},
     "output_type": "display_data"
    }
   ],
   "source": [
    "plt.scatter(X[y_pred==0,0],X[y_pred==0,1],s=100,c='red', label='cluster1')\n",
    "plt.scatter(X[y_pred==1,0],X[y_pred==1,1],s=100,c='blue', label='cluster2')\n",
    "plt.scatter(X[y_pred==2,0],X[y_pred==2,1],s=100,c='green', label='cluster3')\n",
    "plt.scatter(X[y_pred==3,0],X[y_pred==3,1],s=100,c='purple', label='cluster4')\n",
    "plt.scatter(X[y_pred==4,0],X[y_pred==4,1],s=100,c='purple', label='cluster4')\n",
    "plt.scatter(kmen.cluster_centers_[:,0],kmen.cluster_centers_[:,1],s=100,c='yellow',label='centroid')\n",
    "plt.show()"
   ]
  },
  {
   "cell_type": "markdown",
   "metadata": {},
   "source": [
    "Make a prediction"
   ]
  },
  {
   "cell_type": "code",
   "execution_count": 66,
   "metadata": {},
   "outputs": [
    {
     "data": {
      "text/plain": [
       "array([1])"
      ]
     },
     "execution_count": 66,
     "metadata": {},
     "output_type": "execute_result"
    }
   ],
   "source": [
    "\n",
    "z=(40.900749,0.818182,95.40,0.00,95.40,0.000000,0.166667,0.000000,0.083333,0.000000,0,2,1000.0,201.802084,139.509787,0.000000,12)\n",
    "z=np.reshape(z,(1,-1))\n",
    "kmen.predict(z)"
   ]
  }
 ],
 "metadata": {
  "kernelspec": {
   "display_name": "Python 3",
   "language": "python",
   "name": "python3"
  },
  "language_info": {
   "codemirror_mode": {
    "name": "ipython",
    "version": 3
   },
   "file_extension": ".py",
   "mimetype": "text/x-python",
   "name": "python",
   "nbconvert_exporter": "python",
   "pygments_lexer": "ipython3",
   "version": "3.12.1"
  }
 },
 "nbformat": 4,
 "nbformat_minor": 2
}
